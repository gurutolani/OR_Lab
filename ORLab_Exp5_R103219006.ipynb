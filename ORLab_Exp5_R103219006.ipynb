{
  "nbformat": 4,
  "nbformat_minor": 0,
  "metadata": {
    "colab": {
      "name": "ORLab_Exp5_R103219006.ipynb",
      "provenance": [],
      "collapsed_sections": [],
      "authorship_tag": "ABX9TyM3Y75okHzOm+XAmO70IFIw",
      "include_colab_link": true
    },
    "kernelspec": {
      "name": "python3",
      "display_name": "Python 3"
    },
    "language_info": {
      "name": "python"
    }
  },
  "cells": [
    {
      "cell_type": "markdown",
      "metadata": {
        "id": "view-in-github",
        "colab_type": "text"
      },
      "source": [
        "<a href=\"https://colab.research.google.com/github/gurutolani/OR_Lab/blob/main/ORLab_Exp5_R103219006.ipynb\" target=\"_parent\"><img src=\"https://colab.research.google.com/assets/colab-badge.svg\" alt=\"Open In Colab\"/></a>"
      ]
    },
    {
      "cell_type": "code",
      "metadata": {
        "id": "vRiAVPjQuVtQ"
      },
      "source": [
        "from scipy.optimize import linprog"
      ],
      "execution_count": 1,
      "outputs": []
    },
    {
      "cell_type": "markdown",
      "metadata": {
        "id": "0Xz7lOUs0STn"
      },
      "source": [
        "**Ques 1**"
      ]
    },
    {
      "cell_type": "code",
      "metadata": {
        "colab": {
          "base_uri": "https://localhost:8080/"
        },
        "id": "6gNrbINwzWV9",
        "outputId": "399f0764-9af2-4657-d9d3-285b3df2a2a1"
      },
      "source": [
        "obj = [-3, -2, -3]\n",
        "a = [[ 2, 1, 1],[1, 3, 1],[3, 4, 2]]\n",
        "b = [2, 6, 8]\n",
        "bnd = [(0, float(\"inf\")), (0, float(\"inf\")), (0, float(\"inf\"))]\n",
        "opt = linprog(c=obj, A_eq=a, b_eq=b, bounds=bnd, method=\"revised simplex\")\n",
        "opt"
      ],
      "execution_count": 2,
      "outputs": [
        {
          "output_type": "stream",
          "name": "stderr",
          "text": [
            "/usr/local/lib/python3.7/dist-packages/ipykernel_launcher.py:5: OptimizeWarning: A_eq does not appear to be of full row rank. To improve performance, check the problem formulation for redundant equality constraints.\n",
            "  \"\"\"\n"
          ]
        },
        {
          "output_type": "execute_result",
          "data": {
            "text/plain": [
              "     con: array([0., 0., 0.])\n",
              "     fun: -4.0\n",
              " message: 'Optimization terminated successfully.'\n",
              "     nit: 3\n",
              "   slack: array([], dtype=float64)\n",
              "  status: 0\n",
              " success: True\n",
              "       x: array([0., 2., 0.])"
            ]
          },
          "metadata": {},
          "execution_count": 2
        }
      ]
    },
    {
      "cell_type": "markdown",
      "metadata": {
        "id": "DUN-e7Zp0P7X"
      },
      "source": [
        "**Ques 2**"
      ]
    },
    {
      "cell_type": "code",
      "metadata": {
        "colab": {
          "base_uri": "https://localhost:8080/"
        },
        "id": "SGMRVBe5zdAp",
        "outputId": "c7d0a1bb-f0b7-4cf4-eb1d-fdf6da011d89"
      },
      "source": [
        "obj1 = [3, -4, 3]\n",
        "a1 = [[ 5, 6, 2],[1, -3, -5], [2, 5, -4]]\n",
        "b1 = [5, -8, 4]\n",
        "bnd1 = [(0, float(\"inf\")), (0, float(\"inf\")), (0, float(\"inf\"))]\n",
        "opt1 = linprog(c=obj1, A_ub=a1, b_ub=b1, bounds=bnd1, method=\"revised simplex\")\n",
        "opt1"
      ],
      "execution_count": 3,
      "outputs": [
        {
          "output_type": "execute_result",
          "data": {
            "text/plain": [
              "     con: array([], dtype=float64)\n",
              "     fun: 2.625\n",
              " message: 'Optimization terminated successfully.'\n",
              "     nit: 2\n",
              "   slack: array([0.   , 0.   , 7.625])\n",
              "  status: 0\n",
              " success: True\n",
              "       x: array([0.   , 0.375, 1.375])"
            ]
          },
          "metadata": {},
          "execution_count": 3
        }
      ]
    },
    {
      "cell_type": "markdown",
      "metadata": {
        "id": "GJ_MCFysz5_w"
      },
      "source": [
        "**Ques 3**"
      ]
    },
    {
      "cell_type": "code",
      "metadata": {
        "colab": {
          "base_uri": "https://localhost:8080/"
        },
        "id": "AowoQgHYznQy",
        "outputId": "bb0e9bc1-b818-4a46-9f9c-099bf6591d5d"
      },
      "source": [
        "\n",
        "obj2 = [-2, -4, -4, 3]\n",
        "a2 = [[ 1, 1, 1, 0],[1, 4, 0, 1],[3, 4, 2, 0]]\n",
        "b2 = [4, 8, 8]\n",
        "bnd2 = [(0, float(\"inf\")), (0, float(\"inf\")), (0, float(\"inf\")), (0, float(\"inf\"))]\n",
        "opt2 = linprog(c=obj2, A_eq=a2, b_eq=b2, bounds=bnd2, method=\"revised simplex\")\n",
        "opt2"
      ],
      "execution_count": 4,
      "outputs": [
        {
          "output_type": "execute_result",
          "data": {
            "text/plain": [
              "     con: array([0., 0., 0.])\n",
              "     fun: 8.0\n",
              " message: 'Optimization terminated successfully.'\n",
              "     nit: 3\n",
              "   slack: array([], dtype=float64)\n",
              "  status: 0\n",
              " success: True\n",
              "       x: array([0., 0., 4., 8.])"
            ]
          },
          "metadata": {},
          "execution_count": 4
        }
      ]
    }
  ]
}