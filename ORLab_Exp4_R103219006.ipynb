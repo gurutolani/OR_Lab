{
  "nbformat": 4,
  "nbformat_minor": 0,
  "metadata": {
    "colab": {
      "name": "ORLab_Exp4_R103219006.ipynb",
      "provenance": [],
      "authorship_tag": "ABX9TyPFpcC8yBps+97QClGe1D/X",
      "include_colab_link": true
    },
    "kernelspec": {
      "name": "python3",
      "display_name": "Python 3"
    },
    "language_info": {
      "name": "python"
    }
  },
  "cells": [
    {
      "cell_type": "markdown",
      "metadata": {
        "id": "view-in-github",
        "colab_type": "text"
      },
      "source": [
        "<a href=\"https://colab.research.google.com/github/gurutolani/OR_Lab/blob/main/ORLab_Exp4_R103219006.ipynb\" target=\"_parent\"><img src=\"https://colab.research.google.com/assets/colab-badge.svg\" alt=\"Open In Colab\"/></a>"
      ]
    },
    {
      "cell_type": "markdown",
      "metadata": {
        "id": "bsYOLURewrlM"
      },
      "source": [
        "**OR Lab Experiment 4**"
      ]
    },
    {
      "cell_type": "code",
      "metadata": {
        "id": "tryVuCFFgDN1"
      },
      "source": [
        "import cvxpy as cp"
      ],
      "execution_count": 1,
      "outputs": []
    },
    {
      "cell_type": "markdown",
      "metadata": {
        "id": "9XafI2WWwnXL"
      },
      "source": [
        "\n",
        "Q1. Max Z = 7x1 + 10x2 Constraints = -x1 + 3x2 <= 6 = 7x1 + x2 <= 35 = x1, x2 >= 0 and integer"
      ]
    },
    {
      "cell_type": "code",
      "metadata": {
        "colab": {
          "base_uri": "https://localhost:8080/"
        },
        "id": "lLMoFMb4gN3O",
        "outputId": "f1d5a960-c14f-42f0-c6fd-4236f8d3582b"
      },
      "source": [
        "x1= cp.Variable()\n",
        "x2 = cp.Variable()\n",
        "objective = cp.Maximize(7*x1 + 10*x2)\n",
        "constraints = [-1*x1 + 3*x2 <=6 , 7*x1 + x2 <=35 , x1>=0 , x2>=0]\n",
        "problem = cp.Problem(objective , constraints)\n",
        "solution = problem.solve()\n",
        "print(solution)\n",
        "print(x1.value)\n",
        "print(x2.value)"
      ],
      "execution_count": 2,
      "outputs": [
        {
          "output_type": "stream",
          "name": "stdout",
          "text": [
            "66.4999999374403\n",
            "4.499999995490685\n",
            "3.4999999969005486\n"
          ]
        }
      ]
    },
    {
      "cell_type": "markdown",
      "metadata": {
        "id": "wZ4-b7QdwkZw"
      },
      "source": [
        "Q2. Max Z = 5x1 + 8x2 Constraints = x1 + x2 <= 6 = 5x1 + 9x2 <= 45 = x1, x2 >= 0 and integer"
      ]
    },
    {
      "cell_type": "code",
      "metadata": {
        "colab": {
          "base_uri": "https://localhost:8080/"
        },
        "id": "GUO32jdXojuC",
        "outputId": "3b63262f-84b1-44ce-d728-ce5eb55c1875"
      },
      "source": [
        "x1 = cp.Variable()\n",
        "x2 = cp.Variable()\n",
        "objective = cp.Maximize(5*x1 + 8*x2)\n",
        "constraints = [x1 + x2 <=6 , 5*x1 + 9*x2 <=45 , x1>=0 ,x2>=0]\n",
        "problem = cp.Problem(objective , constraints)\n",
        "solution = problem.solve()\n",
        "print(solution)\n",
        "print(x1.value)\n",
        "print(x2.value)"
      ],
      "execution_count": 3,
      "outputs": [
        {
          "output_type": "stream",
          "name": "stdout",
          "text": [
            "41.24999999702171\n",
            "2.249999997851644\n",
            "3.750000000970437\n"
          ]
        }
      ]
    },
    {
      "cell_type": "markdown",
      "metadata": {
        "id": "BZNhC9BzwTp2"
      },
      "source": [
        "3)\tA machine is used to produce two interchangeable products. The daily capacity of the\n",
        "machine can produce at most 20 units of product 1 and 10 units of product 2. Alternatively,\n",
        "       the machine can be adjusted to produce at most 12 units of product 1 and 25\n",
        "       units of product 2 daily. Market analysis shows that the maximum daily demand for the\n",
        "       two products combined is 35 units. Given that the unit profits for the two respective\n",
        "       products are $10 and $12, which of the two machine settings should be selected? \n",
        "       Formulate the problem as an IPP and find the optimum."
      ]
    },
    {
      "cell_type": "code",
      "metadata": {
        "colab": {
          "base_uri": "https://localhost:8080/"
        },
        "id": "GzDvXqIEwNvS",
        "outputId": "b2a1ced3-f8dc-4650-cbc4-c6370630008e"
      },
      "source": [
        "x1 = cp.Variable(integer=True)\n",
        "x2 = cp.Variable(integer=True)\n",
        "objective = cp.Maximize( 10*x1 + 12*x2 )\n",
        "constraints = [x1 + x2 <= 35, 25*x1-12*x2 <= 0, 12*x1-10*x2 <= 0, x1>=0, x2>=0]\n",
        "prob = cp.Problem(objective,constraints)\n",
        "prob.solve()\n",
        "print(\"X1 : \", x1.value)\n",
        "print(\"X2 : \", x2.value)\n",
        "print(\"Value of obj : \", objective.value)"
      ],
      "execution_count": 4,
      "outputs": [
        {
          "output_type": "stream",
          "name": "stdout",
          "text": [
            "X1 :  0.0\n",
            "X2 :  35.0\n",
            "Value of obj :  420.0\n"
          ]
        }
      ]
    }
  ]
}